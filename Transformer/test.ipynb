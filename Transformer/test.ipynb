{
 "cells": [
  {
   "metadata": {
    "ExecuteTime": {
     "end_time": "2025-01-14T02:47:57.968607Z",
     "start_time": "2025-01-14T02:47:57.962461Z"
    }
   },
   "cell_type": "code",
   "source": [
    "import torch\n",
    "import torch.nn as nn\n",
    "\n",
    "# 定义嵌入层\n",
    "num_embeddings = 10  # 词汇表大小\n",
    "embedding_dim = 3  # 嵌入向量的维度\n",
    "embed = nn.Embedding(num_embeddings, embedding_dim)\n",
    "\n",
    "# 创建输入数据\n",
    "# 假设我们有一个批量大小为 2，序列长度为 5 的输入\n",
    "input = torch.LongTensor([[1, 2, 4, 5], [4, 3, 2, 9]])\n",
    "\n",
    "# 前向传播\n",
    "embeded = embed(input)\n",
    "\n",
    "print(\"Embedding shape:\", embeded.shape)  # 输出形状: (2, 5, 3)\n",
    "print(\"Embedding:\", embeded)"
   ],
   "id": "f66c6d4dd978658",
   "outputs": [
    {
     "name": "stdout",
     "output_type": "stream",
     "text": [
      "Embedding shape: torch.Size([2, 4, 3])\n",
      "Embedding: tensor([[[ 1.7770,  0.3249,  0.8496],\n",
      "         [ 0.0669, -0.2499, -0.2040],\n",
      "         [-0.1703, -0.4032, -1.9038],\n",
      "         [-1.2805, -0.9864,  0.3476]],\n",
      "\n",
      "        [[-0.1703, -0.4032, -1.9038],\n",
      "         [-0.2267, -0.7869, -0.8730],\n",
      "         [ 0.0669, -0.2499, -0.2040],\n",
      "         [-1.1254,  0.4396, -0.8411]]], grad_fn=<EmbeddingBackward0>)\n"
     ]
    }
   ],
   "execution_count": 3
  },
  {
   "metadata": {
    "ExecuteTime": {
     "end_time": "2025-01-14T06:54:33.045641Z",
     "start_time": "2025-01-14T06:54:33.039621Z"
    }
   },
   "cell_type": "code",
   "source": [
    "import torch\n",
    "\n",
    "# 创建一个形状为 (3, 4) 的张量\n",
    "x = torch.randn(3, 4)\n",
    "print(\"原始张量形状:\", x.shape)\n",
    "\n",
    "# 在第 0 维度插入一个大小为 1 的维度\n",
    "y = torch.unsqueeze(x, dim=0)\n",
    "print(\"在第 0 维度插入一个大小为 1 的维度后:\", y.shape)\n",
    "\n",
    "# 在第 1 维度插入一个大小为 1 的维度\n",
    "z = torch.unsqueeze(x, dim=1)\n",
    "print(\"在第 1 维度插入一个大小为 1 的维度后:\", z.shape)\n",
    "\n",
    "# 在第 2 维度插入一个大小为 1 的维度\n",
    "w = torch.unsqueeze(x, dim=2)\n",
    "print(\"在第 2 维度插入一个大小为 1 的维度后:\", w.shape)"
   ],
   "id": "6ba02fdd7836986",
   "outputs": [
    {
     "name": "stdout",
     "output_type": "stream",
     "text": [
      "原始张量形状: torch.Size([3, 4])\n",
      "在第 0 维度插入一个大小为 1 的维度后: torch.Size([1, 3, 4])\n",
      "在第 1 维度插入一个大小为 1 的维度后: torch.Size([3, 1, 4])\n",
      "在第 2 维度插入一个大小为 1 的维度后: torch.Size([3, 4, 1])\n"
     ]
    }
   ],
   "execution_count": 4
  }
 ],
 "metadata": {
  "kernelspec": {
   "display_name": "Python 3",
   "language": "python",
   "name": "python3"
  },
  "language_info": {
   "codemirror_mode": {
    "name": "ipython",
    "version": 2
   },
   "file_extension": ".py",
   "mimetype": "text/x-python",
   "name": "python",
   "nbconvert_exporter": "python",
   "pygments_lexer": "ipython2",
   "version": "2.7.6"
  }
 },
 "nbformat": 4,
 "nbformat_minor": 5
}
